{
  "cells": [
    {
      "cell_type": "markdown",
      "id": "e2696553",
      "metadata": {
        "id": "e2696553"
      },
      "source": [
        "<a href=\"https://colab.research.google.com/github/fralfaro/MAT281_2022/blob/main/labs/lab_01.ipynb\n",
        "\" target=\"_parent\"><img src=\"https://colab.research.google.com/assets/colab-badge.svg\" alt=\"Open In Colab\"/></a>\n",
        "\n",
        "\n",
        "# MAT281 - Laboratorio N°01"
      ]
    },
    {
      "cell_type": "markdown",
      "source": [
        "<hr style=\"height:2px;border:none\"/>\n",
        "<h1 align='center'> MAT 281 Aplicaciones de la Matemática en Ingeniería I-2022 </h1>\n",
        "\n",
        "<H3 align='center'> Laboratorio Nº01 </H3>\n",
        "<hr style=\"height:2px;border:none\"/>\n",
        "<H4 align='center'> Nombre: Nicolás Valdebenito Cortés </H4>\n",
        "<hr style=\"height:2px;border:none\"/>\n",
        "<H4 align='center'> Rol: 201710517-8</H4>\n",
        "<hr style=\"height:2px;border:none\"/>"
      ],
      "metadata": {
        "id": "0jVZF0bKLqTa"
      },
      "id": "0jVZF0bKLqTa"
    },
    {
      "cell_type": "markdown",
      "id": "a869ace0",
      "metadata": {
        "id": "a869ace0"
      },
      "source": [
        "## Problema 01\n",
        "\n",
        "En los siglos XVII y XVIII, James Gregory y Gottfried Leibniz descubrieron una serie infinita que sirve para calcular $\\pi$:\n",
        "\n",
        "$$\\displaystyle \\pi = 4 \\sum_{k=1}^{\\infty}\\dfrac{(-1)^{k+1}}{2k-1} = 4(1-\\dfrac{1}{3}+\\dfrac{1}{5}-\\dfrac{1}{7} + ...) $$\n",
        "\n",
        "Desarolle un programa para estimar el valor de $\\pi$ ocupando el método de Leibniz, donde la entrada del programa debe ser un número entero $n$ que indique cuántos términos de la suma se utilizará.\n",
        "\n",
        "\n",
        "* **Ejemplo**: \n",
        "    * *calcular_pi(3)* = 3.466666666666667\n",
        "    * *calcular_pi(1000)* = 3.140592653839794"
      ]
    },
    {
      "cell_type": "code",
      "execution_count": 1,
      "id": "dd54e855",
      "metadata": {
        "id": "dd54e855"
      },
      "outputs": [],
      "source": [
        "# respuesta"
      ]
    },
    {
      "cell_type": "markdown",
      "metadata": {
        "id": "ND6h7a4m08q4"
      },
      "source": [
        "<a id='p1'></a>\n",
        "\n",
        "### Calcular el número $\\pi$\n",
        "\n",
        "$\\textbf{Proof.}$\n",
        "\n",
        "Usando la serie geométrica es fácil ver que:\n",
        "\\begin{align*}\n",
        "  \\frac{1}{1+x^2}=\\sum_{n=0}^\\infty (-1)^nx^{2n}\\hspace{.5cm}\\forall x\\in(-1,1)\n",
        "\\end{align*}\n",
        "Integrando a ambos lados:\n",
        "\\begin{align*}\n",
        "  \\int_0^x\\frac{du}{1+u^2}&=\\sum_{n=0}^\\infty (-1)^n\\int_0^x u^{2n}du\\\\\n",
        "  arctan(x)&=\\sum_{n=0}^\\infty (-1)^n\\frac{x^{2n+1}}{2n+1}\\hspace{.5cm}\\forall x\\in[-1,1]\n",
        "\\end{align*}\n",
        "Evaluando para $x=1$ se tiene:\n",
        "\\begin{align*}\n",
        "  \\frac{\\pi}{4}=arctan(1)=\\sum_{n=0}^\\infty\\frac{(-1)^n}{2n+1}=\\sum_{n=1}^\\infty\\frac{(-1)^{n+1}}{2n-1}\n",
        "\\end{align*}\n",
        "Se concluye lo siguiente:\n",
        "\\begin{align*}\n",
        "  \\pi=4\\sum_{n=1}^\\infty\\frac{(-1)^{n+1}}{2n-1}=4\\left(1-\\dfrac{1}{3}+\\dfrac{1}{5}-\\dfrac{1}{7} + ...\\right) \n",
        "\\end{align*}\n"
      ],
      "id": "ND6h7a4m08q4"
    },
    {
      "cell_type": "markdown",
      "metadata": {
        "id": "pclUHN3dDa3_"
      },
      "source": [
        "### Observación\n",
        "\n",
        "En la práctica, la fórmula de Leibniz es muy poco eficiente para el cálculo de $\\pi$, pues requiere un número enorme de pasos para obtener cierta precisión. Para calcular π con 10 decimales correctos hacen falta más de cinco mil millones de operaciones matemáticas, que los ordenadores tardarán más en realizar que en calcular $\\pi$ con millones de decimales correctos mediante fórmulas más eficientes."
      ],
      "id": "pclUHN3dDa3_"
    },
    {
      "cell_type": "markdown",
      "metadata": {
        "id": "WYNVax-T08q5"
      },
      "source": [
        "### Definir Función\n"
      ],
      "id": "WYNVax-T08q5"
    },
    {
      "cell_type": "code",
      "metadata": {
        "id": "GxVlV1TP08q6"
      },
      "source": [
        "def calcular_pi(n:int)->float:\n",
        "    \n",
        "    \"\"\"\n",
        "    calcular_pi(n)\n",
        "\n",
        "    Aproximacion del valor de pi mediante el método de Leibniz\n",
        "\n",
        "    Parameters\n",
        "    ----------\n",
        "    n : int\n",
        "        Numero de terminos.\n",
        "\n",
        "    Returns\n",
        "    -------\n",
        "    output : float\n",
        "        Valor aproximado de pi.\n",
        "        \n",
        "    Examples\n",
        "    --------\n",
        "    >>> calcular_pi(3)\n",
        "    3.466666666666667\n",
        "    \n",
        "    >>> calcular_pi(1000) \n",
        "    3.140592653839794\n",
        "    \"\"\"\n",
        "    \n",
        "    pi = 0 # valor incial \n",
        "    for k in range(1,n+1):\n",
        "        numerador = (-1)**(k+1) # numerador de la iteracion i\n",
        "        denominador = 2*k-1  # denominador de la iteracion i\n",
        "        pi+=numerador/denominador # suma hasta el i-esimo termino\n",
        "    \n",
        "    return 4*pi"
      ],
      "execution_count": 2,
      "outputs": [],
      "id": "GxVlV1TP08q6"
    },
    {
      "cell_type": "code",
      "metadata": {
        "colab": {
          "base_uri": "https://localhost:8080/"
        },
        "id": "qR30SSCDUqXU",
        "outputId": "0fe5d528-5e26-44ff-e53e-3fd8415f5418"
      },
      "source": [
        "calcular_pi(999999)"
      ],
      "execution_count": 3,
      "outputs": [
        {
          "output_type": "execute_result",
          "data": {
            "text/plain": [
              "3.1415936535907742"
            ]
          },
          "metadata": {},
          "execution_count": 3
        }
      ],
      "id": "qR30SSCDUqXU"
    },
    {
      "cell_type": "code",
      "metadata": {
        "scrolled": false,
        "colab": {
          "base_uri": "https://localhost:8080/"
        },
        "id": "bUYc38ty08q7",
        "outputId": "8c6aaeb7-e719-468a-bdb9-adab829a2443"
      },
      "source": [
        "# Acceso a la documentación\n",
        "help(calcular_pi)"
      ],
      "execution_count": 4,
      "outputs": [
        {
          "output_type": "stream",
          "name": "stdout",
          "text": [
            "Help on function calcular_pi in module __main__:\n",
            "\n",
            "calcular_pi(n: int) -> float\n",
            "    calcular_pi(n)\n",
            "    \n",
            "    Aproximacion del valor de pi mediante el método de Leibniz\n",
            "    \n",
            "    Parameters\n",
            "    ----------\n",
            "    n : int\n",
            "        Numero de terminos.\n",
            "    \n",
            "    Returns\n",
            "    -------\n",
            "    output : float\n",
            "        Valor aproximado de pi.\n",
            "        \n",
            "    Examples\n",
            "    --------\n",
            "    >>> calcular_pi(3)\n",
            "    3.466666666666667\n",
            "    \n",
            "    >>> calcular_pi(1000) \n",
            "    3.140592653839794\n",
            "\n"
          ]
        }
      ],
      "id": "bUYc38ty08q7"
    },
    {
      "cell_type": "markdown",
      "metadata": {
        "id": "SlXDOUj508q8"
      },
      "source": [
        "### Verificar ejemplos"
      ],
      "id": "SlXDOUj508q8"
    },
    {
      "cell_type": "code",
      "metadata": {
        "colab": {
          "base_uri": "https://localhost:8080/"
        },
        "id": "hE8Ckl8AVony",
        "outputId": "7c556970-4850-4bd7-8544-02f5a5205d3c"
      },
      "source": [
        "# ejemplo 01\n",
        "calcular_pi(3)"
      ],
      "execution_count": 5,
      "outputs": [
        {
          "output_type": "execute_result",
          "data": {
            "text/plain": [
              "3.466666666666667"
            ]
          },
          "metadata": {},
          "execution_count": 5
        }
      ],
      "id": "hE8Ckl8AVony"
    },
    {
      "cell_type": "code",
      "metadata": {
        "colab": {
          "base_uri": "https://localhost:8080/"
        },
        "id": "flHSYY4KVor3",
        "outputId": "16c8b82b-0899-4aee-c8aa-23cb76a6765e"
      },
      "source": [
        "# ejemplo 02\n",
        "calcular_pi(1000)"
      ],
      "execution_count": 6,
      "outputs": [
        {
          "output_type": "execute_result",
          "data": {
            "text/plain": [
              "3.140592653839794"
            ]
          },
          "metadata": {},
          "execution_count": 6
        }
      ],
      "id": "flHSYY4KVor3"
    },
    {
      "cell_type": "markdown",
      "id": "c26be634",
      "metadata": {
        "id": "c26be634"
      },
      "source": [
        "## Problema 02\n",
        "\n",
        "Euler realizó varios aportes en relación a $e$, pero no fue hasta 1748 cuando publicó su **Introductio in analysin infinitorum** que dio un tratamiento definitivo a las ideas sobre $e$. Allí mostró que:\n",
        "\n",
        "\n",
        "En los siglos XVII y XVIII, James Gregory y Gottfried Leibniz descubrieron una serie infinita que sirve para calcular π:\n",
        "\n",
        "$$\\displaystyle e = \\sum_{k=0}^{\\infty}\\dfrac{1}{k!} = 1+\\dfrac{1}{2!}+\\dfrac{1}{3!}+\\dfrac{1}{4!} + ... $$\n",
        "\n",
        "Desarolle un programa para estimar el valor de $e$ ocupando el método de Euler, donde la entrada del programa debe ser un número entero $n$ que indique cuántos términos de la suma se utilizará. \n",
        "\n",
        "Para esto:\n",
        "\n",
        "* a) Defina la función `factorial`, donde la entrada sea un número natural  $n$ y la salida sea el factorial de dicho número.\n",
        "    * **Ejemplo**: *factorial(3)* =3, *factorial(5)* = 120\n",
        "    \n",
        "    \n",
        "* b) Ocupe la función `factorial` dentro de la función `calcular_e`.     \n",
        "    * **Ejemplo**: *calcular_e(3)* = 2.6666666666666665, *calcular_e(1000)* = 2.7182818284590455"
      ]
    },
    {
      "cell_type": "code",
      "execution_count": 7,
      "id": "6a5230ac",
      "metadata": {
        "id": "6a5230ac"
      },
      "outputs": [],
      "source": [
        "# respuesta"
      ]
    },
    {
      "cell_type": "markdown",
      "metadata": {
        "id": "psHS6YYa08rA"
      },
      "source": [
        "### Definir función"
      ],
      "id": "psHS6YYa08rA"
    },
    {
      "cell_type": "code",
      "source": [
        "def factorial(n:int):\n",
        "    contador=1\n",
        "    producto=1\n",
        "    for i in range(n):\n",
        "        producto=producto*contador\n",
        "        contador=contador+1\n",
        "    return producto"
      ],
      "metadata": {
        "id": "xTn2125bq4t6"
      },
      "execution_count": 8,
      "outputs": [],
      "id": "xTn2125bq4t6"
    },
    {
      "cell_type": "code",
      "metadata": {
        "id": "-tWG7xh208rA"
      },
      "source": [
        "#from math import factorial\n",
        "\n",
        "def calcular_e(n:int)->float:\n",
        "    e = 0 # valor incial \n",
        "    for k in range(1,n+1):\n",
        "        numerador = 1 # numerador de la iteracion i\n",
        "        denominador = factorial(k)  # denominador de la iteracion i\n",
        "        e+=numerador/denominador # suma hasta el i-esimo termino\n",
        "    return e"
      ],
      "execution_count": 9,
      "outputs": [],
      "id": "-tWG7xh208rA"
    },
    {
      "cell_type": "code",
      "metadata": {
        "colab": {
          "base_uri": "https://localhost:8080/"
        },
        "id": "31Sjcaze_3_Y",
        "outputId": "7181d55c-0b8e-4c2a-fc82-0ce18b45d866"
      },
      "source": [
        "calcular_e(9999)"
      ],
      "execution_count": 20,
      "outputs": [
        {
          "output_type": "execute_result",
          "data": {
            "text/plain": [
              "1.7182818284590455"
            ]
          },
          "metadata": {},
          "execution_count": 20
        }
      ],
      "id": "31Sjcaze_3_Y"
    },
    {
      "cell_type": "markdown",
      "metadata": {
        "id": "d78uvXo908rB"
      },
      "source": [
        "### Verificar ejemplos"
      ],
      "id": "d78uvXo908rB"
    },
    {
      "cell_type": "code",
      "source": [
        "factorial(3)"
      ],
      "metadata": {
        "id": "n59a0XhzSspD",
        "outputId": "a7b6f18d-48c9-48e8-81f4-36856a10ddac",
        "colab": {
          "base_uri": "https://localhost:8080/"
        }
      },
      "id": "n59a0XhzSspD",
      "execution_count": 21,
      "outputs": [
        {
          "output_type": "execute_result",
          "data": {
            "text/plain": [
              "6"
            ]
          },
          "metadata": {},
          "execution_count": 21
        }
      ]
    },
    {
      "cell_type": "code",
      "source": [
        "factorial(5)"
      ],
      "metadata": {
        "id": "GxZlGOuRSs1i",
        "outputId": "0a3e0e32-39c7-4eea-81c9-d77304ff6e01",
        "colab": {
          "base_uri": "https://localhost:8080/"
        }
      },
      "id": "GxZlGOuRSs1i",
      "execution_count": 22,
      "outputs": [
        {
          "output_type": "execute_result",
          "data": {
            "text/plain": [
              "120"
            ]
          },
          "metadata": {},
          "execution_count": 22
        }
      ]
    },
    {
      "cell_type": "code",
      "metadata": {
        "colab": {
          "base_uri": "https://localhost:8080/"
        },
        "id": "e9iymbERVg-Z",
        "outputId": "2e87dc7b-ee69-48fb-b05c-e3b1ebe6cc8b"
      },
      "source": [
        "calcular_e(3)"
      ],
      "execution_count": 23,
      "outputs": [
        {
          "output_type": "execute_result",
          "data": {
            "text/plain": [
              "1.6666666666666667"
            ]
          },
          "metadata": {},
          "execution_count": 23
        }
      ],
      "id": "e9iymbERVg-Z"
    },
    {
      "cell_type": "code",
      "metadata": {
        "colab": {
          "base_uri": "https://localhost:8080/"
        },
        "id": "CNs02UIrVhHN",
        "outputId": "82d7bd25-6036-43f2-b5d9-c4fa3de6b640"
      },
      "source": [
        "calcular_e(1000)"
      ],
      "execution_count": 24,
      "outputs": [
        {
          "output_type": "execute_result",
          "data": {
            "text/plain": [
              "1.7182818284590455"
            ]
          },
          "metadata": {},
          "execution_count": 24
        }
      ],
      "id": "CNs02UIrVhHN"
    },
    {
      "cell_type": "markdown",
      "id": "9707be93",
      "metadata": {
        "id": "9707be93"
      },
      "source": [
        "## Problema 03\n",
        "\n",
        "Sea $\\sigma(n)$ definido como la suma de los divisores propios de $n$ (números menores que n que se dividen en $n$).\n",
        "\n",
        "Los [números amigos](https://en.wikipedia.org/wiki/Amicable_numbers) son  enteros positivos $n_1$ y $n_2$ tales que la suma de los divisores propios de uno es igual al otro número y viceversa, es decir, $\\sigma(n_1)=\\sigma(n_2)$ y $\\sigma(n_2)=\\sigma(n_1)$.\n",
        "\n",
        "\n",
        "Por ejemplo, los números 220 y 284 son números amigos.\n",
        "* los divisores propios de 220 son 1, 2, 4, 5, 10, 11, 20, 22, 44, 55 y 110; por lo tanto $\\sigma(220) = 284$. \n",
        "* los divisores propios de 284 son 1, 2, 4, 71 y 142; entonces $\\sigma(284) = 220$.\n",
        "\n",
        "\n",
        "Implemente una función llamada `amigos` cuyo input sean dos números naturales $n_1$ y $n_2$, cuyo output sea verifique si los números son amigos o no. \n",
        "\n",
        "Para esto:\n",
        "\n",
        "* a) Defina la función `divisores_propios`, donde la entrada sea un número natural $n$ y la salida sea una lista con los divisores propios de dicho número.\n",
        "    * **Ejemplo**: *divisores_propios(220)* = [1, 2, 4, 5, 10, 11, 20, 22, 44, 55 y 110], *divisores_propios(284)* = [1, 2, 4, 71 y 142]\n",
        "    \n",
        "    \n",
        "* b) Ocupe la función `divisores_propios` dentro de la función `amigos`.\n",
        "\n",
        "    * **Ejemplo**: *amigos(220,284)* = True, *amigos(6,5)* = False"
      ]
    },
    {
      "cell_type": "code",
      "execution_count": 25,
      "id": "e695ea21",
      "metadata": {
        "id": "e695ea21"
      },
      "outputs": [],
      "source": [
        "# respuesta"
      ]
    },
    {
      "cell_type": "markdown",
      "id": "cf93a039",
      "metadata": {
        "id": "cf93a039"
      },
      "source": [
        "## Problema 04\n",
        "\n",
        "La [conjetura de Collatz](https://en.wikipedia.org/wiki/Collatz_conjecture), conocida también como conjetura $3n+1$ o conjetura de Ulam (entre otros nombres), fue enunciada por el matemático Lothar Collatz en 1937, y a la fecha no se ha resuelto.\n",
        "\n",
        "Sea la siguiente operación, aplicable a cualquier número entero positivo:\n",
        "* Si el número es par, se divide entre 2.\n",
        "* Si el número es impar, se multiplica por 3 y se suma 1.\n",
        "\n",
        "La conjetura dice que siempre alcanzaremos el 1 (y por tanto el ciclo 4, 2, 1) para cualquier número con el que comencemos. \n",
        "\n",
        "Implemente una función llamada `collatz` cuyo input sea un número natural positivo $N$ y como output devulva la secuencia de números hasta llegar a 1.\n",
        "\n",
        "* **Ejemplo**: *collatz(9)* = [9, 28, 14, 7, 22, 11, 34, 17, 52, 26, 13, 40, 20, 10, 5, 16, 8, 4, 2, 1]"
      ]
    },
    {
      "cell_type": "code",
      "execution_count": 26,
      "id": "aef80dac",
      "metadata": {
        "id": "aef80dac"
      },
      "outputs": [],
      "source": [
        "# respuesta"
      ]
    },
    {
      "cell_type": "markdown",
      "metadata": {
        "id": "dYrfaG7v08rE"
      },
      "source": [
        "### Definir Función"
      ],
      "id": "dYrfaG7v08rE"
    },
    {
      "cell_type": "code",
      "metadata": {
        "id": "OOGlC5_O08rE"
      },
      "source": [
        "def collatz(n:int):\n",
        "\tresult = [n]\n",
        "\twhile n > 1:\n",
        "\t\tif (n % 2) == 0:\n",
        "\t\t\tn = int(n/2)\n",
        "\t\telse:\n",
        "\t\t\tn = n*3 + 1\t\t\n",
        "\t\tresult.append(n)\n",
        "\tprint(result)"
      ],
      "execution_count": 27,
      "outputs": [],
      "id": "OOGlC5_O08rE"
    },
    {
      "cell_type": "markdown",
      "source": [
        "### Verificar ejemplos"
      ],
      "metadata": {
        "id": "j-SHhV6FUuP-"
      },
      "id": "j-SHhV6FUuP-"
    },
    {
      "cell_type": "code",
      "metadata": {
        "colab": {
          "base_uri": "https://localhost:8080/"
        },
        "id": "cLPtf23uitvB",
        "outputId": "1552c9de-006f-4176-aba3-8655549e1bef"
      },
      "source": [
        "collatz(9)"
      ],
      "execution_count": 28,
      "outputs": [
        {
          "output_type": "stream",
          "name": "stdout",
          "text": [
            "[9, 28, 14, 7, 22, 11, 34, 17, 52, 26, 13, 40, 20, 10, 5, 16, 8, 4, 2, 1]\n"
          ]
        }
      ],
      "id": "cLPtf23uitvB"
    },
    {
      "cell_type": "markdown",
      "id": "d15af4eb",
      "metadata": {
        "id": "d15af4eb"
      },
      "source": [
        "## Problema 05\n",
        "La [conjetura de Goldbach](https://en.wikipedia.org/wiki/Goldbach%27s_conjecture) es uno de los problemas abiertos más antiguos en matemáticas. Concretamente, G.H. Hardy, en 1921, en su famoso discurso pronunciado en la Sociedad Matemática de Copenhague, comentó que probablemente la conjetura de Goldbach no es solo uno de los problemas no resueltos más difíciles de la teoría de números, sino de todas las matemáticas. Su enunciado es el siguiente:\n",
        "\n",
        "> Todo número par mayor que 2 puede escribirse como suma de dos números primos - Christian Goldbach (1742)\n",
        "\n",
        "Implemente una función llamada `goldbach` cuyo input sea un número natural positivo $n$ y como output devuelva la suma de dos primos ($n_1$ y $n_2$) tal que: $n_1+n_2=n$. \n",
        "\n",
        "Para esto:\n",
        "\n",
        "* a) Defina la función `es_primo`, donde la entrada sea un número natural $n$ y la salida sea **True** si el número es primo y **False** en otro caso.\n",
        "    * **Ejemplo**: *es_primo(3)* = True, *es_primo(4)* = False\n",
        "    \n",
        "    \n",
        "* b)  Defina la función `lista_de_primos`, donde la entrada sea un número natural par $n$ mayor que dos y la salida sea una lista con todos los número primos entre 2 y $n$.\n",
        "    * **Ejemplo**: *lista_de_primos(4)* = [2,3], *lista_de_primos(6)* = [2,3,5], *lista_de_primos(8)* = [2,3,5,7]\n",
        "\n",
        "\n",
        "* c) Ocupe la función `lista_de_primos` dentro de la función `goldbash`.\n",
        " * **Ejemplo**: goldbash(4) = (2,2), goldbash(6) = (3,3) , goldbash(8) = (3,5)"
      ]
    },
    {
      "cell_type": "code",
      "execution_count": 29,
      "id": "d47d37c6",
      "metadata": {
        "id": "d47d37c6"
      },
      "outputs": [],
      "source": [
        "# respuesta"
      ]
    }
  ],
  "metadata": {
    "kernelspec": {
      "display_name": "Python 3 (ipykernel)",
      "language": "python",
      "name": "python3"
    },
    "language_info": {
      "codemirror_mode": {
        "name": "ipython",
        "version": 3
      },
      "file_extension": ".py",
      "mimetype": "text/x-python",
      "name": "python",
      "nbconvert_exporter": "python",
      "pygments_lexer": "ipython3",
      "version": "3.8.8"
    },
    "colab": {
      "provenance": [],
      "toc_visible": true,
      "name": "lab_01.ipynb",
      "collapsed_sections": []
    }
  },
  "nbformat": 4,
  "nbformat_minor": 5
}